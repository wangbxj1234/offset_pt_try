{
  "nbformat": 4,
  "nbformat_minor": 0,
  "metadata": {
    "colab": {
      "name": "单点fps.ipynb",
      "provenance": [],
      "collapsed_sections": [],
      "mount_file_id": "1hnmyyU1-yr61S0kgYOFEDw39DtVNf8Fw",
      "authorship_tag": "ABX9TyOqlObLkM4oQ+DR40wOewGm",
      "include_colab_link": true
    },
    "kernelspec": {
      "name": "python3",
      "display_name": "Python 3"
    },
    "language_info": {
      "name": "python"
    }
  },
  "cells": [
    {
      "cell_type": "markdown",
      "metadata": {
        "id": "view-in-github",
        "colab_type": "text"
      },
      "source": [
        "<a href=\"https://colab.research.google.com/github/wangbxj1234/offset_pt_try/blob/main/%E5%8D%95%E7%82%B9fps.ipynb\" target=\"_parent\"><img src=\"https://colab.research.google.com/assets/colab-badge.svg\" alt=\"Open In Colab\"/></a>"
      ]
    },
    {
      "cell_type": "code",
      "source": [
        "import numpy as np\n",
        "import torch"
      ],
      "metadata": {
        "id": "DC6u6bcYBX1T"
      },
      "execution_count": 6,
      "outputs": []
    },
    {
      "cell_type": "code",
      "execution_count": 18,
      "metadata": {
        "colab": {
          "base_uri": "https://localhost:8080/"
        },
        "id": "G-baiEXFBN-u",
        "outputId": "8a536e04-2bbf-46cb-f0ac-30f6234e58bd"
      },
      "outputs": [
        {
          "output_type": "execute_result",
          "data": {
            "text/plain": [
              "torch.Size([1024])"
            ]
          },
          "metadata": {},
          "execution_count": 18
        }
      ],
      "source": [
        "b=np.random.rand(2048,3)#########set from numpy\n",
        "instance = torch.Tensor(b)\n",
        "def farthest_point_sample_1(xyz, npoint):\n",
        "    \"\"\"\n",
        "    Input:\n",
        "        xyz: pointcloud data, [B N, 3]\n",
        "        npoint: number of samples\n",
        "    Return:\n",
        "        centroids: sampled pointcloud index, [B, npoint]\n",
        "    \"\"\"\n",
        "    device = xyz.device\n",
        "    N, C = xyz.shape#############9840, 2048, 3\n",
        "    centroids = torch.zeros(npoint, dtype=torch.long).to(device)#(9840, 1024)\n",
        "    distance = torch.ones(N).to(device) * 1e10        ###########(9840, 2048)\n",
        "    farthest = torch.randint(0, N,(1,), dtype=torch.long).to(device)######low:0,high:2048,  (9840,1)\n",
        "    #batch_indices = torch.arange(B, dtype=torch.long).to(device)########### arange: to generate (0,1,2,.....,9839)\n",
        "    for i in range(npoint):\n",
        "        centroids[i] = farthest##################[1]\n",
        "        centroid = xyz[farthest, :].view(1, 3) ######(9840,2048,3)\n",
        "        dist = torch.sum((xyz - centroid) ** 2, -1)##################(9840,2048)\n",
        "        distance = torch.min(distance, dist)###############NO LARGER THAN 1e10\n",
        "        farthest = torch.max(distance, -1)[1]############## 取最远距离的那个点 得到坐标\n",
        "    return centroids\n",
        "fps_idx_single = farthest_point_sample_1(instance, 1024)\n",
        "fps_idx_single.shape"
      ]
    },
    {
      "cell_type": "code",
      "source": [
        "def index_points_1(instance, idx):\n",
        "    \"\"\"\n",
        "    Input:\n",
        "        instance: input points data, [ N, C]\n",
        "        idx: sample index data, [ S, [K]]\n",
        "    Return:\n",
        "        new_points:, indexed points data, [ S, [K], C]\n",
        "    \"\"\"\n",
        "    raw_size = idx.size()###s\n",
        "    idx = idx.reshape(-1)\n",
        "    res = torch.gather(instance, 0, idx[..., None].expand(-1, instance.size(-1)))#先把idx加上dim=3的第二维, 再用gather把instance中的对应点按索引提取出来。\n",
        "    #### 1024 -》（1024,3），然后从（2048，3）中提取对应的点。\n",
        "    return res.reshape(*raw_size, -1)####就是idx的shape（2维或者三维），再加上最后一维c，理论上这个-1也可以写成'instance.size(-1)'吧。"
      ],
      "metadata": {
        "id": "Ay23NoxwHLeV"
      },
      "execution_count": 21,
      "outputs": []
    },
    {
      "cell_type": "code",
      "source": [
        "torch.cuda.empty_cache()#####清除显存\n",
        "pointcloud = index_points_1(instance, fps_idx_single)########### 按照index 返回 3维点。\n",
        "pointcloud.shape"
      ],
      "metadata": {
        "colab": {
          "base_uri": "https://localhost:8080/"
        },
        "id": "bXQCa0UwBikv",
        "outputId": "e48f45c3-245d-4ff4-c9fc-8cd1c07385a4"
      },
      "execution_count": 22,
      "outputs": [
        {
          "output_type": "execute_result",
          "data": {
            "text/plain": [
              "torch.Size([1024, 3])"
            ]
          },
          "metadata": {},
          "execution_count": 22
        }
      ]
    }
  ]
}