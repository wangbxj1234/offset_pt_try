{
  "nbformat": 4,
  "nbformat_minor": 0,
  "metadata": {
    "colab": {
      "name": "修改yaml文件.ipynb",
      "provenance": [],
      "collapsed_sections": [],
      "mount_file_id": "1sF93KCouDtay3oxU6Y4Prx1VNlBqoXDP",
      "authorship_tag": "ABX9TyOuud8qShX3TC0cfggGNZ8O",
      "include_colab_link": true
    },
    "kernelspec": {
      "name": "python3",
      "display_name": "Python 3"
    },
    "language_info": {
      "name": "python"
    }
  },
  "cells": [
    {
      "cell_type": "markdown",
      "metadata": {
        "id": "view-in-github",
        "colab_type": "text"
      },
      "source": [
        "<a href=\"https://colab.research.google.com/github/wangbxj1234/offset_pt_try/blob/main/%E4%BF%AE%E6%94%B9yaml%E6%96%87%E4%BB%B6.ipynb\" target=\"_parent\"><img src=\"https://colab.research.google.com/assets/colab-badge.svg\" alt=\"Open In Colab\"/></a>"
      ]
    },
    {
      "cell_type": "code",
      "execution_count": 19,
      "metadata": {
        "colab": {
          "base_uri": "https://localhost:8080/"
        },
        "id": "wBPLgVXt72w4",
        "outputId": "3d77f587-66da-4691-dd19-f4591267b76b"
      },
      "outputs": [
        {
          "output_type": "execute_result",
          "data": {
            "text/plain": [
              "{'batch_size': 16,\n",
              " 'defaults': [{'model': 'Menghao'}],\n",
              " 'epoch': 200,\n",
              " 'gpu': 1,\n",
              " 'hydra': {'run': {'dir': 'log/cls/${model.name}'},\n",
              "  'sweep': {'dir': 'log/cls', 'subdir': '${model.name}'}},\n",
              " 'learning_rate': '1e-3',\n",
              " 'normal': True,\n",
              " 'num_point': 1024,\n",
              " 'optimizer': 'Adam',\n",
              " 'weight_decay': '1e-4'}"
            ]
          },
          "metadata": {},
          "execution_count": 19
        }
      ],
      "source": [
        "import yaml\n",
        "with open('/content/drive/MyDrive/pointnet/Point-Transformers-master/config/cls.yaml', errors='ignore') as f:\n",
        "        data = yaml.safe_load(f) \n",
        "data"
      ]
    },
    {
      "cell_type": "code",
      "source": [
        "data['batch_size']"
      ],
      "metadata": {
        "colab": {
          "base_uri": "https://localhost:8080/"
        },
        "id": "Bupt0xgo9qFJ",
        "outputId": "42b893ab-a4dc-4f9f-9871-b7ed553f5529"
      },
      "execution_count": 12,
      "outputs": [
        {
          "output_type": "execute_result",
          "data": {
            "text/plain": [
              "16"
            ]
          },
          "metadata": {},
          "execution_count": 12
        }
      ]
    },
    {
      "cell_type": "code",
      "source": [
        "data['hydra']['run']\n",
        "#print(data['children'][0]['name'])"
      ],
      "metadata": {
        "colab": {
          "base_uri": "https://localhost:8080/"
        },
        "id": "x6k8BtOq9CUL",
        "outputId": "13e8bd0d-ec4f-4e9b-d67d-37a78ea12673"
      },
      "execution_count": 9,
      "outputs": [
        {
          "output_type": "execute_result",
          "data": {
            "text/plain": [
              "{'dir': 'log/cls/${model.name}'}"
            ]
          },
          "metadata": {},
          "execution_count": 9
        }
      ]
    },
    {
      "cell_type": "code",
      "source": [
        "#数据的修改, errors='ignore'\n",
        "with open('/content/drive/MyDrive/pointnet/Point-Transformers-master/config/model/Hengshuang.yaml') as f:\n",
        "        data1 = yaml.safe_load(f) \n",
        "data1\n"
      ],
      "metadata": {
        "colab": {
          "base_uri": "https://localhost:8080/"
        },
        "id": "CvTzJsFI84Eq",
        "outputId": "d8a93d28-35df-4d6e-b5b6-bcea29e549f0"
      },
      "execution_count": 32,
      "outputs": [
        {
          "output_type": "execute_result",
          "data": {
            "text/plain": [
              "{'name': 'Hengshuang', 'nblocks': 4, 'nneighbor': 16, 'transformer_dim': 512}"
            ]
          },
          "metadata": {},
          "execution_count": 32
        }
      ]
    },
    {
      "cell_type": "code",
      "source": [
        "data1['name'] = 'Hengshuang_offset'\n",
        "print(data1['name'])"
      ],
      "metadata": {
        "colab": {
          "base_uri": "https://localhost:8080/"
        },
        "id": "AlaYmyd4-QFo",
        "outputId": "01db5ab3-9863-43c4-fd21-dee97e350978"
      },
      "execution_count": 33,
      "outputs": [
        {
          "output_type": "stream",
          "name": "stdout",
          "text": [
            "Hengshuang_offset\n"
          ]
        }
      ]
    },
    {
      "cell_type": "code",
      "source": [
        "with open('/content/drive/MyDrive/pointnet/Point-Transformers-master/config/model/Hengshuang_offset.yaml', \"w\") as f:\n",
        "    yaml.safe_dump(data1,f,encoding='utf-8', allow_unicode=True)"
      ],
      "metadata": {
        "id": "wXl5bvuABXZ0"
      },
      "execution_count": 34,
      "outputs": []
    },
    {
      "cell_type": "code",
      "source": [
        "with open('/content/drive/MyDrive/pointnet/Point-Transformers-master/config/model/Hengshuang_offset.yaml') as f:\n",
        "        data2 = yaml.safe_load(f) \n",
        "data2"
      ],
      "metadata": {
        "colab": {
          "base_uri": "https://localhost:8080/"
        },
        "id": "sHbxWujxEQB4",
        "outputId": "aa521aab-54c1-4274-b97d-c7ff0d6f7558"
      },
      "execution_count": 35,
      "outputs": [
        {
          "output_type": "execute_result",
          "data": {
            "text/plain": [
              "{'name': 'Hengshuang_offset',\n",
              " 'nblocks': 4,\n",
              " 'nneighbor': 16,\n",
              " 'transformer_dim': 512}"
            ]
          },
          "metadata": {},
          "execution_count": 35
        }
      ]
    }
  ]
}