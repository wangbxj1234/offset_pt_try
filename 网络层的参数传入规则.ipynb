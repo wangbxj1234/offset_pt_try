{
  "nbformat": 4,
  "nbformat_minor": 0,
  "metadata": {
    "colab": {
      "name": "网络层的参数传入规则.ipynb",
      "provenance": [],
      "collapsed_sections": [],
      "authorship_tag": "ABX9TyPSG4ytQOy5XFCkpNRsBKAU",
      "include_colab_link": true
    },
    "kernelspec": {
      "name": "python3",
      "display_name": "Python 3"
    },
    "language_info": {
      "name": "python"
    }
  },
  "cells": [
    {
      "cell_type": "markdown",
      "metadata": {
        "id": "view-in-github",
        "colab_type": "text"
      },
      "source": [
        "<a href=\"https://colab.research.google.com/github/wangbxj1234/offset_pt_try/blob/main/%E7%BD%91%E7%BB%9C%E5%B1%82%E7%9A%84%E5%8F%82%E6%95%B0%E4%BC%A0%E5%85%A5%E8%A7%84%E5%88%99.ipynb\" target=\"_parent\"><img src=\"https://colab.research.google.com/assets/colab-badge.svg\" alt=\"Open In Colab\"/></a>"
      ]
    },
    {
      "cell_type": "code",
      "execution_count": null,
      "metadata": {
        "id": "xYn3MFs-urB7"
      },
      "outputs": [],
      "source": [
        "import torch\n",
        "import torch.nn as nn\n",
        "import torch.nn.functional as F\n",
        "import numpy as np\n",
        "def square_distance(src, dst):\n",
        "    \"\"\"\n",
        "    Calculate Euclid distance between each two points.\n",
        "    src^T * dst = xn * xm + yn * ym + zn * zm；\n",
        "    sum(src^2, dim=-1) = xn*xn + yn*yn + zn*zn;\n",
        "    sum(dst^2, dim=-1) = xm*xm + ym*ym + zm*zm;\n",
        "    dist = (xn - xm)^2 + (yn - ym)^2 + (zn - zm)^2\n",
        "         = sum(src**2,dim=-1)+sum(dst**2,dim=-1)-2*src^T*dst\n",
        "    Input:\n",
        "        src: source points, [B, N, C]\n",
        "        dst: target points, [B, M, C]\n",
        "    Output:\n",
        "        dist: per-point square distance, [B, N, M]\n",
        "    \"\"\"\n",
        "    return torch.sum((src[:, :, None] - dst[:, None]) ** 2, dim=-1)\n",
        "\n",
        "def index_points(points, idx):#从n个坐标中按照index提取s个坐标或者s*k个坐标，可以进行sampling 或者 sampling&grouping\n",
        "    \"\"\"\n",
        "    Input:\n",
        "        points: input points data, [B, N, C]\n",
        "        idx: sample index data, [B, S, [K]]\n",
        "    Return:\n",
        "        new_points:, indexed points data, [B, S, [K], C] \n",
        "    \"\"\"\n",
        "    raw_size = idx.size()#这里是torch size 相当于 numpy的shape\n",
        "    idx = idx.reshape(raw_size[0], -1) # B,S.  OR.   B,S*K.\n",
        "    res = torch.gather(points, 1, idx[..., None].expand(-1, -1, points.size(-1))) #先把idx的第三维复制到=C,再用gather按索引提取对应点出来。\n",
        "    return res.reshape(*raw_size, -1)#就是idx的shape（2维或者三维），再加上最后一维c，理论上这个-1也可以写成'points.size(-1)'吧。\n",
        "    \n",
        "class TransformerBlock(nn.Module):\n",
        "    def __init__(self, d_points, d_model, k) -> None:\n",
        "        super().__init__()\n",
        "        self.fc1 = nn.Linear(d_points, d_model)\n",
        "        self.fc2 = nn.Linear(d_model, d_points)\n",
        "        self.fc_delta = nn.Sequential(\n",
        "            nn.Linear(3, d_model),\n",
        "            nn.ReLU(),\n",
        "            nn.Linear(d_model, d_model)\n",
        "        )\n",
        "        self.fc_gamma = nn.Sequential(\n",
        "            nn.Linear(d_model, d_model),\n",
        "            nn.ReLU(),\n",
        "            nn.Linear(d_model, d_model)\n",
        "        )\n",
        "        self.w_qs = nn.Linear(d_model, d_model, bias=False)\n",
        "        self.w_ks = nn.Linear(d_model, d_model, bias=False)\n",
        "        self.w_vs = nn.Linear(d_model, d_model, bias=False)\n",
        "        self.k = k\n",
        "        self.fc_sub = nn.Sequential(\n",
        "            nn.Linear(d_points, d_points),\n",
        "            nn.ReLU(),\n",
        "            nn.Linear(d_points, d_points),\n",
        "            nn.BatchNorm1d(d_points),\n",
        "            nn.ReLU()\n",
        "        )        \n",
        "    # xyz: b x n x 3, features: b x n x f\n",
        "    def forward(self, xyz, features):\n",
        "        dists = square_distance(xyz, xyz)\n",
        "        knn_idx = dists.argsort()[:, :, :self.k]  # b x n x k\n",
        "        knn_xyz = index_points(xyz, knn_idx)######b*n*k*f，local attention操作，没有sample，只有group！ （本来应该是b * n * n * f）\n",
        "        \n",
        "        x_in = features\n",
        "        x = self.fc1(features)\n",
        "        q, k, v = self.w_qs(x), index_points(self.w_ks(x), knn_idx), index_points(self.w_vs(x), knn_idx) #q取所有点，localatten所以k和v按knn取点。\n",
        "        #######\n",
        "        pos_enc = self.fc_delta(xyz[:, :, None] - knn_xyz)  ### b x n x k x f\n",
        "        #####\n",
        "        attn = self.fc_gamma(q[:, :, None] - k + pos_enc)\n",
        "        attn = F.softmax(attn / np.sqrt(k.size(-1)), dim=-2)  # b x n x k x f\n",
        "        ####（做内积的对象是2个， 每个都是 b x n x k x f \n",
        "        x_r = torch.einsum('bmnf,bmnf->bmf', attn, v + pos_enc) ########按照第3个维度做内积，又变成了 b * n * f。\n",
        "#        x_r = self.fc2(x_r) \n",
        "        print(x_r.shape)\n",
        " #       res = self.fc_sub(x_in-x_r) + x_in\n",
        "        res = self.fc2(x_r) + x_in                             \n",
        "        return res, attn\n",
        "\n",
        "attn = TransformerBlock(d_points=32, d_model=512, k=16) ################第一步，传入对应init中参数\n",
        "\n",
        "x = torch.randn(1, 1024, 32)\n",
        "xyz = x[..., :3] "
      ]
    },
    {
      "cell_type": "code",
      "source": [
        "attn(xyz,x)########第二步，传入对应forward参数"
      ],
      "metadata": {
        "colab": {
          "base_uri": "https://localhost:8080/"
        },
        "id": "mhZoLdfwu5nd",
        "outputId": "5ee4b2e5-ccf8-4efc-d686-fafd44d95646"
      },
      "execution_count": null,
      "outputs": [
        {
          "output_type": "stream",
          "name": "stdout",
          "text": [
            "torch.Size([1, 1024, 512])\n"
          ]
        },
        {
          "output_type": "execute_result",
          "data": {
            "text/plain": [
              "(tensor([[[ 0.7942, -1.1685,  0.8907,  ..., -2.1958,  0.3499,  0.5752],\n",
              "          [ 0.5355, -0.4327, -0.2372,  ...,  1.1746, -0.4953, -0.8143],\n",
              "          [-0.3290, -0.3095, -0.6630,  ...,  0.6544,  0.6003, -0.5973],\n",
              "          ...,\n",
              "          [ 1.2142,  1.6940, -1.2997,  ...,  0.3245, -0.2688, -0.2004],\n",
              "          [-0.6360, -1.1067,  0.3465,  ..., -0.5920,  2.4559,  1.5122],\n",
              "          [ 0.0665,  0.4303, -1.1062,  ...,  1.5498,  2.0652, -0.4984]]],\n",
              "        grad_fn=<AddBackward0>),\n",
              " tensor([[[[0.0624, 0.0625, 0.0624,  ..., 0.0626, 0.0626, 0.0626],\n",
              "           [0.0622, 0.0624, 0.0626,  ..., 0.0624, 0.0625, 0.0624],\n",
              "           [0.0626, 0.0623, 0.0630,  ..., 0.0624, 0.0625, 0.0625],\n",
              "           ...,\n",
              "           [0.0624, 0.0625, 0.0624,  ..., 0.0626, 0.0623, 0.0624],\n",
              "           [0.0628, 0.0626, 0.0623,  ..., 0.0626, 0.0624, 0.0627],\n",
              "           [0.0624, 0.0622, 0.0624,  ..., 0.0626, 0.0630, 0.0624]],\n",
              " \n",
              "          [[0.0626, 0.0623, 0.0623,  ..., 0.0623, 0.0625, 0.0623],\n",
              "           [0.0623, 0.0625, 0.0626,  ..., 0.0624, 0.0624, 0.0625],\n",
              "           [0.0623, 0.0624, 0.0628,  ..., 0.0624, 0.0625, 0.0624],\n",
              "           ...,\n",
              "           [0.0627, 0.0622, 0.0624,  ..., 0.0625, 0.0626, 0.0622],\n",
              "           [0.0621, 0.0627, 0.0625,  ..., 0.0627, 0.0625, 0.0626],\n",
              "           [0.0625, 0.0627, 0.0626,  ..., 0.0622, 0.0624, 0.0625]],\n",
              " \n",
              "          [[0.0623, 0.0626, 0.0625,  ..., 0.0622, 0.0623, 0.0625],\n",
              "           [0.0623, 0.0627, 0.0625,  ..., 0.0626, 0.0626, 0.0624],\n",
              "           [0.0624, 0.0626, 0.0626,  ..., 0.0627, 0.0624, 0.0626],\n",
              "           ...,\n",
              "           [0.0627, 0.0622, 0.0626,  ..., 0.0626, 0.0624, 0.0626],\n",
              "           [0.0624, 0.0626, 0.0626,  ..., 0.0625, 0.0626, 0.0625],\n",
              "           [0.0623, 0.0624, 0.0626,  ..., 0.0628, 0.0625, 0.0626]],\n",
              " \n",
              "          ...,\n",
              " \n",
              "          [[0.0628, 0.0627, 0.0626,  ..., 0.0623, 0.0628, 0.0628],\n",
              "           [0.0623, 0.0627, 0.0625,  ..., 0.0624, 0.0626, 0.0625],\n",
              "           [0.0625, 0.0624, 0.0625,  ..., 0.0628, 0.0626, 0.0621],\n",
              "           ...,\n",
              "           [0.0627, 0.0624, 0.0624,  ..., 0.0626, 0.0625, 0.0625],\n",
              "           [0.0629, 0.0625, 0.0624,  ..., 0.0623, 0.0625, 0.0628],\n",
              "           [0.0626, 0.0626, 0.0625,  ..., 0.0622, 0.0622, 0.0623]],\n",
              " \n",
              "          [[0.0628, 0.0623, 0.0624,  ..., 0.0623, 0.0624, 0.0626],\n",
              "           [0.0628, 0.0628, 0.0625,  ..., 0.0622, 0.0627, 0.0626],\n",
              "           [0.0627, 0.0625, 0.0625,  ..., 0.0626, 0.0627, 0.0629],\n",
              "           ...,\n",
              "           [0.0625, 0.0624, 0.0627,  ..., 0.0624, 0.0626, 0.0626],\n",
              "           [0.0623, 0.0628, 0.0626,  ..., 0.0625, 0.0627, 0.0627],\n",
              "           [0.0626, 0.0623, 0.0623,  ..., 0.0626, 0.0626, 0.0622]],\n",
              " \n",
              "          [[0.0626, 0.0626, 0.0624,  ..., 0.0625, 0.0624, 0.0628],\n",
              "           [0.0626, 0.0626, 0.0624,  ..., 0.0624, 0.0625, 0.0626],\n",
              "           [0.0625, 0.0625, 0.0625,  ..., 0.0626, 0.0625, 0.0626],\n",
              "           ...,\n",
              "           [0.0627, 0.0624, 0.0626,  ..., 0.0625, 0.0624, 0.0625],\n",
              "           [0.0623, 0.0625, 0.0625,  ..., 0.0619, 0.0626, 0.0623],\n",
              "           [0.0624, 0.0624, 0.0625,  ..., 0.0625, 0.0626, 0.0622]]]],\n",
              "        grad_fn=<SoftmaxBackward0>))"
            ]
          },
          "metadata": {},
          "execution_count": 2
        }
      ]
    }
  ]
}