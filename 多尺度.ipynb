{
  "nbformat": 4,
  "nbformat_minor": 0,
  "metadata": {
    "colab": {
      "name": "多尺度.ipynb",
      "provenance": [],
      "collapsed_sections": [],
      "authorship_tag": "ABX9TyM3V9dl5AagCE51GyZDx9HS",
      "include_colab_link": true
    },
    "kernelspec": {
      "name": "python3",
      "display_name": "Python 3"
    },
    "language_info": {
      "name": "python"
    }
  },
  "cells": [
    {
      "cell_type": "markdown",
      "metadata": {
        "id": "view-in-github",
        "colab_type": "text"
      },
      "source": [
        "<a href=\"https://colab.research.google.com/github/wangbxj1234/offset_pt_try/blob/main/%E5%A4%9A%E5%B0%BA%E5%BA%A6.ipynb\" target=\"_parent\"><img src=\"https://colab.research.google.com/assets/colab-badge.svg\" alt=\"Open In Colab\"/></a>"
      ]
    },
    {
      "cell_type": "code",
      "execution_count": 1,
      "metadata": {
        "id": "2wno62edKjCX"
      },
      "outputs": [],
      "source": [
        "import torch \n",
        "xyz = torch.randn(1, 1024, 3)\n",
        "points = torch.randn(1, 1024, 32)\n",
        "xyz_and_feats = [(xyz, points)]\n",
        "for i in range(4):#########模拟4层block的情况\n",
        "            xyz = torch.randn(1, 1024 // 4 ** (i + 1), 3)\n",
        "            points = torch.randn(1, 1024 // 4 ** (i + 1), 32 * 2 ** (i + 1))\n",
        "            xyz_and_feats.append((xyz, points))\n"
      ]
    },
    {
      "cell_type": "code",
      "source": [
        "xyz_and_feats[-1][0].shape######最后一个transformer的输出坐标"
      ],
      "metadata": {
        "colab": {
          "base_uri": "https://localhost:8080/"
        },
        "id": "7tZbtm1HRXQQ",
        "outputId": "999b51ec-5029-461f-b3de-eed161474e35"
      },
      "execution_count": 2,
      "outputs": [
        {
          "output_type": "execute_result",
          "data": {
            "text/plain": [
              "torch.Size([1, 4, 3])"
            ]
          },
          "metadata": {},
          "execution_count": 2
        }
      ]
    },
    {
      "cell_type": "code",
      "source": [
        "xyz_and_feats[0][1].shape######## transformer1的输出"
      ],
      "metadata": {
        "colab": {
          "base_uri": "https://localhost:8080/"
        },
        "id": "wYBgRfIJVUsP",
        "outputId": "0b17df72-3e15-4247-be17-caf4e7c29019"
      },
      "execution_count": 3,
      "outputs": [
        {
          "output_type": "execute_result",
          "data": {
            "text/plain": [
              "torch.Size([1, 1024, 32])"
            ]
          },
          "metadata": {},
          "execution_count": 3
        }
      ]
    },
    {
      "cell_type": "code",
      "source": [
        "xyz_and_feats[4][1].shape#########   最后一个transformer的输出"
      ],
      "metadata": {
        "colab": {
          "base_uri": "https://localhost:8080/"
        },
        "id": "8BmaUEKFYgpd",
        "outputId": "12501127-9a42-4bb7-889d-04e33e4bb59c"
      },
      "execution_count": 4,
      "outputs": [
        {
          "output_type": "execute_result",
          "data": {
            "text/plain": [
              "torch.Size([1, 4, 512])"
            ]
          },
          "metadata": {},
          "execution_count": 4
        }
      ]
    },
    {
      "cell_type": "code",
      "source": [
        "new_points=xyz_and_feats[0][1]###transformer1的输出\n",
        "for i in range(4):\n",
        "  new_points = torch.cat([new_points, xyz_and_feats[i+1][1].repeat(1,4 ** (i + 1),1)], dim=-1) #####\bblock从上到下 cat"
      ],
      "metadata": {
        "id": "H2C4amVP0JfC"
      },
      "execution_count": 5,
      "outputs": []
    },
    {
      "cell_type": "code",
      "source": [
        "new_points.shape"
      ],
      "metadata": {
        "colab": {
          "base_uri": "https://localhost:8080/"
        },
        "id": "Wbj_yFlhlAQT",
        "outputId": "c61c1c06-fafe-41b7-bca3-17f7fe1096f1"
      },
      "execution_count": 6,
      "outputs": [
        {
          "output_type": "execute_result",
          "data": {
            "text/plain": [
              "torch.Size([1, 1024, 992])"
            ]
          },
          "metadata": {},
          "execution_count": 6
        }
      ]
    },
    {
      "cell_type": "code",
      "source": [
        "nblocks=4\n",
        "32*(2**(nblocks+1)-1) "
      ],
      "metadata": {
        "colab": {
          "base_uri": "https://localhost:8080/"
        },
        "id": "DM7MGopqkvL8",
        "outputId": "2b29f3a2-fcb5-4211-ffb1-c485ef7becc9"
      },
      "execution_count": 7,
      "outputs": [
        {
          "output_type": "execute_result",
          "data": {
            "text/plain": [
              "992"
            ]
          },
          "metadata": {},
          "execution_count": 7
        }
      ]
    }
  ]
}